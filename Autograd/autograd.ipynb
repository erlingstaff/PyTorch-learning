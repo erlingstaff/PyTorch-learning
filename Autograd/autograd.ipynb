{
 "cells": [
  {
   "cell_type": "code",
   "execution_count": null,
   "metadata": {},
   "outputs": [],
   "source": []
  }
 ],
 "metadata": {
  "interpreter": {
   "hash": "c126292c0f4467a7be23130b4c111e2616216dd35a87680ffee6912ebd86da69"
  },
  "kernelspec": {
   "display_name": "Python 3.8.12 ('dave3625')",
   "language": "python",
   "name": "python3"
  },
  "language_info": {
   "name": "python",
   "version": "3.8.12"
  },
  "orig_nbformat": 4
 },
 "nbformat": 4,
 "nbformat_minor": 2
}
